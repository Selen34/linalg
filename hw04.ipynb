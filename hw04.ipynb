{
 "cells": [
  {
   "cell_type": "markdown",
   "metadata": {
    "colab_type": "text",
    "id": "J2D422I0ZS5N"
   },
   "source": [
    "## Практическое задание. Часть 1"
   ]
  },
  {
   "cell_type": "markdown",
   "metadata": {
    "colab_type": "text",
    "id": "cTVfl123ZS5O"
   },
   "source": [
    "__1.__ Решить систему уравнений методом Гаусса:\n",
    "\n",
    "$$\\begin{cases}\n",
    "x_{1}+x_{2}-x_{3}-2x_{4}=0, \\\\\n",
    "2x_{1}+x_{2}-x_{3}+x_{4}=-2, \\\\\n",
    "x_{1}+x_{2}-3x_{3}+x_{4}=4.\n",
    "\\end{cases}$$"
   ]
  },
  {
   "cell_type": "markdown",
   "metadata": {},
   "source": [
    "$\n",
    "\\begin{vmatrix}\n",
    "1 & 1 & -1 & -2 & 0 \\\\\n",
    "2 & 1 & -1 & 1 & -2 \\\\\n",
    "1 & 1 & -3 & 1 & 4\n",
    "\\end{vmatrix}\n",
    "$"
   ]
  },
  {
   "cell_type": "markdown",
   "metadata": {},
   "source": [
    "$\n",
    "\\begin{vmatrix}\n",
    "1 & 1 & -1 & -2 & 0 \\\\\n",
    "0 & -1 & 1 & 5 & -2 \\\\\n",
    "0 & 0 & -2 & 3 & 4\n",
    "\\end{vmatrix}\n",
    "$"
   ]
  },
  {
   "cell_type": "markdown",
   "metadata": {},
   "source": [
    "$\n",
    "\\begin{vmatrix}\n",
    "1 & 1 & -1 & -2 & 0 \\\\\n",
    "0 & -1 & 1 & 5 & -2 \\\\\n",
    "0 & 0 & 1 & -3/2 & -2\n",
    "\\end{vmatrix}\n",
    "$"
   ]
  },
  {
   "cell_type": "markdown",
   "metadata": {},
   "source": [
    "$x_3 = \\frac{3x_4}{2} - 2$"
   ]
  },
  {
   "cell_type": "markdown",
   "metadata": {},
   "source": [
    "$x_2 = \\frac{3x_4}{2} - 2 + 5x_4 + 2 = \\frac{13x_4}{2}$"
   ]
  },
  {
   "cell_type": "markdown",
   "metadata": {},
   "source": [
    "$x_1 = -\\frac{13x_4}{2} + \\frac{3x_4}{2} - 2 + 2x_4 = -3x_4 - 2$"
   ]
  },
  {
   "cell_type": "markdown",
   "metadata": {},
   "source": [
    "$x_4 = R$"
   ]
  },
  {
   "cell_type": "markdown",
   "metadata": {},
   "source": [
    "частное решение:"
   ]
  },
  {
   "cell_type": "markdown",
   "metadata": {},
   "source": [
    "пусть $x_4 = 0$, тогда $x_1 = -2, x_2 = 0, x_3 = -2$"
   ]
  },
  {
   "cell_type": "markdown",
   "metadata": {
    "colab_type": "text",
    "id": "cTVfl123ZS5O"
   },
   "source": [
    "__2.__ Проверить на совместность и выяснить, сколько решений будет иметь система линейных уравнений:\n",
    "\n",
    "   а) $\\begin{cases}\n",
    "3x_{1}-x_{2}+x_{3}=4, \\\\\n",
    "2x_{1}-5x_{2}-3x_{3}=-17, \\\\\n",
    "x_{1}+x_{2}-x_{3}=0;\n",
    "\\end{cases}$"
   ]
  },
  {
   "cell_type": "markdown",
   "metadata": {},
   "source": [
    "$\n",
    "\\begin{vmatrix}\n",
    "3 & -1 & 1 & 4 \\\\ 2 & -5 & -3 & -17 \\\\ 1 & 1& -1 & 0\n",
    "\\end{vmatrix}\n",
    "$"
   ]
  },
  {
   "cell_type": "code",
   "execution_count": 1,
   "metadata": {},
   "outputs": [],
   "source": [
    "import numpy as np"
   ]
  },
  {
   "cell_type": "code",
   "execution_count": 2,
   "metadata": {},
   "outputs": [
    {
     "data": {
      "text/plain": [
       "(3, 3)"
      ]
     },
     "execution_count": 2,
     "metadata": {},
     "output_type": "execute_result"
    }
   ],
   "source": [
    "a = np.matrix([[3, -1, 1],[2, -5, -3], [1, 1, -1]])\n",
    "b = np.array([4, -17, 0])\n",
    "a_ext = np.column_stack([a, b])\n",
    "np.linalg.matrix_rank(a), np.linalg.matrix_rank(a_ext)"
   ]
  },
  {
   "cell_type": "markdown",
   "metadata": {},
   "source": [
    "$rankA = rank{\\tilde A} = n = 3 =>$ система имеет единственное решение"
   ]
  },
  {
   "cell_type": "markdown",
   "metadata": {
    "colab_type": "text",
    "id": "cTVfl123ZS5O"
   },
   "source": [
    "    \n",
    "   б) $\\begin{cases}\n",
    "2x_{1}-4x_{2}+6x_{3}=1, \\\\\n",
    "x_{1}-2x_{2}+3x_{3}=-2, \\\\\n",
    "3x_{1}-6x_{2}+9x_{3}=5;\n",
    "\\end{cases}$"
   ]
  },
  {
   "cell_type": "code",
   "execution_count": 3,
   "metadata": {},
   "outputs": [
    {
     "data": {
      "text/plain": [
       "(2, 3)"
      ]
     },
     "execution_count": 3,
     "metadata": {},
     "output_type": "execute_result"
    }
   ],
   "source": [
    "a = np.matrix([[2, -4, 6],[1, -2, 3], [3, 6, 9]])\n",
    "b = np.array([1, -2, 5])\n",
    "a_ext = np.column_stack([a, b])\n",
    "np.linalg.matrix_rank(a), np.linalg.matrix_rank(a_ext)"
   ]
  },
  {
   "cell_type": "markdown",
   "metadata": {},
   "source": [
    "система несовестна, т.к. $rankA = 2 < rank{\\tilde A} = 3$"
   ]
  },
  {
   "cell_type": "markdown",
   "metadata": {
    "colab_type": "text",
    "id": "cTVfl123ZS5O"
   },
   "source": [
    "    \n",
    "   в) $\\begin{cases}\n",
    "x_{1}+2x_{2}+5x_{3}=4, \\\\\n",
    "3x_{1}+x_{2}-8x_{3}=-2. \n",
    "\\end{cases}$"
   ]
  },
  {
   "cell_type": "code",
   "execution_count": 4,
   "metadata": {},
   "outputs": [
    {
     "data": {
      "text/plain": [
       "(2, 2)"
      ]
     },
     "execution_count": 4,
     "metadata": {},
     "output_type": "execute_result"
    }
   ],
   "source": [
    "a = np.matrix([[1, 2, 5],[3, 1, -8]])\n",
    "b = np.array([4, -2])\n",
    "a_ext = np.column_stack([a, b])\n",
    "np.linalg.matrix_rank(a), np.linalg.matrix_rank(a_ext)"
   ]
  },
  {
   "cell_type": "markdown",
   "metadata": {},
   "source": [
    "система имеет бесконечное число решений, т.к. $rank A = rank {\\tilde A} = 2 < n = 3$"
   ]
  },
  {
   "cell_type": "markdown",
   "metadata": {
    "colab_type": "text",
    "id": "cTVfl123ZS5O"
   },
   "source": [
    "__3.__ Проверить на совместность и выяснить, сколько решений будет иметь система линейных уравнений, заданная расширенной матрицей\n",
    "\n",
    "$$\\tilde{A}=\\begin{pmatrix}\n",
    "\\left.\\begin{matrix}\n",
    "1 & 3 & -2 & 4\\\\ \n",
    "0 & 5 & 0 & 1\\\\ \n",
    "0 & 0 & 3 & 0\\\\ \n",
    "0 & 0 & 0 & 2\n",
    "\\end{matrix}\\right|\n",
    "\\begin{matrix}\n",
    "3\\\\ \n",
    "2\\\\\n",
    "4\\\\\n",
    "1\n",
    "\\end{matrix}\n",
    "\\end{pmatrix}.$$"
   ]
  },
  {
   "cell_type": "code",
   "execution_count": 5,
   "metadata": {},
   "outputs": [],
   "source": [
    "a = np.matrix([[1,3, -2, 4], [0, 5,0,1],[0,0,3,0],[0,0,0,2]])\n",
    "b = np.array([3,2,4,1])\n",
    "a_ext = np.column_stack([a,b])"
   ]
  },
  {
   "cell_type": "code",
   "execution_count": 6,
   "metadata": {},
   "outputs": [
    {
     "data": {
      "text/plain": [
       "(4, 4)"
      ]
     },
     "execution_count": 6,
     "metadata": {},
     "output_type": "execute_result"
    }
   ],
   "source": [
    "np.linalg.matrix_rank(a), np.linalg.matrix_rank(a_ext)"
   ]
  },
  {
   "cell_type": "markdown",
   "metadata": {},
   "source": [
    "__система имеет единственное решение, т.к.__ $rank A = rank{\\tilde A} = 4 = n$"
   ]
  },
  {
   "cell_type": "markdown",
   "metadata": {
    "colab_type": "text",
    "id": "cTVfl123ZS5O"
   },
   "source": [
    "__4.__ Дана система линейных уравнений, заданная расширенной матрицей\n",
    "\n",
    "$$\\tilde{A}=\\begin{pmatrix}\n",
    "\\left.\\begin{matrix}\n",
    "1 & 2 & 3\\\\ \n",
    "4 & 5 & 6\\\\ \n",
    "7 & 8 & 9\n",
    "\\end{matrix}\\right|\n",
    "\\begin{matrix}\n",
    "a\\\\ \n",
    "b\\\\\n",
    "c\n",
    "\\end{matrix}\n",
    "\\end{pmatrix}.$$\n",
    "\n",
    "Найти соотношение между параметрами $a$, $b$ и $c$, при которых система является несовместной."
   ]
  },
  {
   "cell_type": "markdown",
   "metadata": {},
   "source": [
    "$\n",
    "\\begin{pmatrix}\n",
    "\\left.\\begin{matrix}\n",
    "1 & 2 & 3\\\\ \n",
    "2 & 1 & 0\\\\ \n",
    "4 & 2 & 0\n",
    "\\end{matrix}\\right|\n",
    "\\begin{matrix}\n",
    "a\\\\ \n",
    "b-2a\\\\\n",
    "c-3a\n",
    "\\end{matrix}\n",
    "\\end{pmatrix}$"
   ]
  },
  {
   "cell_type": "markdown",
   "metadata": {},
   "source": [
    "$\n",
    "\\begin{pmatrix}\n",
    "\\left.\\begin{matrix}\n",
    "1 & 2 & 3\\\\ \n",
    "2 & 1 & 0\\\\ \n",
    "0 & 0 & 0\n",
    "\\end{matrix}\\right|\n",
    "\\begin{matrix}\n",
    "a\\\\ \n",
    "b-2a\\\\\n",
    "c-3a-2(b-2a)\n",
    "\\end{matrix}\n",
    "\\end{pmatrix}$"
   ]
  },
  {
   "cell_type": "markdown",
   "metadata": {},
   "source": [
    "__система будет несовместной, если есть такие__ $c-3b+a != 0$"
   ]
  },
  {
   "cell_type": "markdown",
   "metadata": {
    "colab_type": "text",
    "id": "6hmx96_WfPKd"
   },
   "source": [
    "## Практическое задание. Часть 2"
   ]
  },
  {
   "cell_type": "markdown",
   "metadata": {
    "colab_type": "text",
    "id": "ZBi7FV66fPKf"
   },
   "source": [
    "__1.__ Решить систему уравнений методом Крамера:\n",
    "\n",
    "   а) $\\begin{cases}\n",
    "x_{1}-2x_{2}=1 \\\\\n",
    "3x_{1}-4x_{2}=7\n",
    "\\end{cases}$"
   ]
  },
  {
   "cell_type": "markdown",
   "metadata": {},
   "source": [
    "$\n",
    "detA = \n",
    "\\begin{vmatrix}\n",
    "1 & -2 \\\\ 3 & -4\n",
    "\\end{vmatrix} = -4 + 6 = 2\n",
    "$"
   ]
  },
  {
   "cell_type": "markdown",
   "metadata": {},
   "source": [
    "$\n",
    "detA_1 = \n",
    "\\begin{vmatrix}\n",
    "1 & -2 \\\\ 7 & -4\n",
    "\\end{vmatrix} = -4 + 14 = 10\n",
    "$"
   ]
  },
  {
   "cell_type": "markdown",
   "metadata": {},
   "source": [
    "$\n",
    "detA_2 = \n",
    "\\begin{vmatrix}\n",
    "1 & 1 \\\\ 3 & 7\n",
    "\\end{vmatrix} = 7 - 3 = 4\n",
    "$"
   ]
  },
  {
   "cell_type": "markdown",
   "metadata": {},
   "source": [
    "$x_1 = 10/2 = 5 \\\\ x_2 = 4/2 = 2$"
   ]
  },
  {
   "cell_type": "markdown",
   "metadata": {
    "colab_type": "text",
    "id": "ZBi7FV66fPKf"
   },
   "source": [
    "    \n",
    "   б) $\\begin{cases}\n",
    "2x_{1}-x_{2}+5x_{3}=10 \\\\\n",
    "x_{1}+x_{2}-3x_{3}=-2 \\\\\n",
    "2x_{1}+4x_{2}+x_{3}=1\n",
    "\\end{cases}$"
   ]
  },
  {
   "cell_type": "markdown",
   "metadata": {},
   "source": [
    "$\n",
    "detA = \n",
    "\\begin{vmatrix}\n",
    "2 & -1 & 5 \\\\\n",
    "1 & 1 & -3 \\\\\n",
    "2 & 4 & 1\n",
    "\\end{vmatrix}\n",
    "$"
   ]
  },
  {
   "cell_type": "markdown",
   "metadata": {},
   "source": [
    "$\n",
    "detA_1 = \n",
    "\\begin{vmatrix}\n",
    "10 & -1 & 5 \\\\\n",
    "-2 & 1 & -3 \\\\\n",
    "1 & 4 & 1\n",
    "\\end{vmatrix}\n",
    "$"
   ]
  },
  {
   "cell_type": "markdown",
   "metadata": {},
   "source": [
    "$\n",
    "detA_2 = \n",
    "\\begin{vmatrix}\n",
    "2 & 10 & 5 \\\\\n",
    "1 & -2 & -3 \\\\\n",
    "2 & 1 & 1\n",
    "\\end{vmatrix}\n",
    "$"
   ]
  },
  {
   "cell_type": "markdown",
   "metadata": {},
   "source": [
    "$\n",
    "detA+3 = \n",
    "\\begin{vmatrix}\n",
    "2 & -1 & 10 \\\\\n",
    "1 & 1 & -2 \\\\\n",
    "2 & 4 & 1\n",
    "\\end{vmatrix}\n",
    "$"
   ]
  },
  {
   "cell_type": "code",
   "execution_count": 10,
   "metadata": {},
   "outputs": [
    {
     "data": {
      "text/plain": [
       "43"
      ]
     },
     "execution_count": 10,
     "metadata": {},
     "output_type": "execute_result"
    }
   ],
   "source": [
    "detA = (2 + 6 + 20) - 10 + 24 + 1\n",
    "detA"
   ]
  },
  {
   "cell_type": "code",
   "execution_count": 11,
   "metadata": {},
   "outputs": [
    {
     "data": {
      "text/plain": [
       "86"
      ]
     },
     "execution_count": 11,
     "metadata": {},
     "output_type": "execute_result"
    }
   ],
   "source": [
    "detA1 = 10 + 3 - 40 - 5 - 2 + 120\n",
    "detA1"
   ]
  },
  {
   "cell_type": "code",
   "execution_count": 12,
   "metadata": {},
   "outputs": [
    {
     "data": {
      "text/plain": [
       "-43"
      ]
     },
     "execution_count": 12,
     "metadata": {},
     "output_type": "execute_result"
    }
   ],
   "source": [
    "detA2 = -4 - 60 + 5 + 20 - 10 + 6\n",
    "detA2"
   ]
  },
  {
   "cell_type": "code",
   "execution_count": 13,
   "metadata": {},
   "outputs": [
    {
     "data": {
      "text/plain": [
       "43"
      ]
     },
     "execution_count": 13,
     "metadata": {},
     "output_type": "execute_result"
    }
   ],
   "source": [
    "detA3 = 2 + 4 + 40 - 20 + 16 + 1\n",
    "detA3"
   ]
  },
  {
   "cell_type": "markdown",
   "metadata": {},
   "source": [
    "$x_1 = 86/43 = 2 \\\\ x_2 = -1 \\\\ x_3 = 1$"
   ]
  },
  {
   "cell_type": "markdown",
   "metadata": {
    "colab_type": "text",
    "id": "ZBi7FV66fPKf"
   },
   "source": [
    "__2*.__ Найти $L$-матрицу $LU$-разложения для матрицы коэффициентов:\n",
    "\n",
    "   а)$$\\begin{pmatrix}\n",
    "1 & 2 & 4 \\\\ \n",
    "2 & 9 & 12 \\\\ \n",
    "3 & 26 & 30\n",
    "\\end{pmatrix}$$"
   ]
  },
  {
   "cell_type": "markdown",
   "metadata": {},
   "source": [
    "$\n",
    "U =\n",
    "\\begin{vmatrix}\n",
    "1 & 2 & 4 \\\\\n",
    "2 & 9 & 12 \\\\\n",
    "3 & 26 & 30\n",
    "\\end{vmatrix}\n",
    "L = \n",
    "\\begin{vmatrix}\n",
    "1 & 0 & 0 \\\\\n",
    "l_{21} & 1 & 0 \\\\\n",
    "l_{31} & l_{32} & 1\n",
    "\\end{vmatrix}\n",
    "$"
   ]
  },
  {
   "cell_type": "markdown",
   "metadata": {},
   "source": [
    "$\n",
    "U =\n",
    "\\begin{vmatrix}\n",
    "1 & 2 & 4 \\\\\n",
    "0 & 5 & 4 \\\\\n",
    "0 & 20 & 18\n",
    "\\end{vmatrix}\n",
    "L = \n",
    "\\begin{vmatrix}\n",
    "1 & 0 & 0 \\\\\n",
    "2 & 1 & 0 \\\\\n",
    "3 & l_{32} & 1\n",
    "\\end{vmatrix}\n",
    "$"
   ]
  },
  {
   "cell_type": "markdown",
   "metadata": {},
   "source": [
    "$\n",
    "U =\n",
    "\\begin{vmatrix}\n",
    "1 & 2 & 4 \\\\\n",
    "0 & 5 & 4 \\\\\n",
    "0 & 0 & 2\n",
    "\\end{vmatrix}\n",
    "L = \n",
    "\\begin{vmatrix}\n",
    "1 & 0 & 0 \\\\\n",
    "2 & 1 & 0 \\\\\n",
    "3 & 4 & 1\n",
    "\\end{vmatrix}\n",
    "$"
   ]
  },
  {
   "cell_type": "code",
   "execution_count": 18,
   "metadata": {},
   "outputs": [
    {
     "data": {
      "text/plain": [
       "matrix([[ 1,  2,  4],\n",
       "        [ 2,  9, 12],\n",
       "        [ 3, 26, 30]])"
      ]
     },
     "execution_count": 18,
     "metadata": {},
     "output_type": "execute_result"
    }
   ],
   "source": [
    "u = np.matrix([[1, 2, 4],[0, 5, 4],[0, 0, 2]])\n",
    "l = np.matrix([[1, 0, 0],[2, 1, 0],[3, 4, 1]])\n",
    "np.dot(l, u)"
   ]
  },
  {
   "cell_type": "markdown",
   "metadata": {
    "colab_type": "text",
    "id": "ZBi7FV66fPKf"
   },
   "source": [
    "    \n",
    "   б)$$\\begin{pmatrix}\n",
    "1 & 1 & 2 & 4\\\\ \n",
    "2 & 5 & 8 & 9\\\\ \n",
    "3 & 18 & 29 & 18\\\\\n",
    "4 & 22 & 53 & 33\n",
    "\\end{pmatrix}$$"
   ]
  },
  {
   "cell_type": "markdown",
   "metadata": {},
   "source": [
    "$\n",
    "U =\n",
    "\\begin{vmatrix}\n",
    "1 & 1 & 2 & 4 \\\\\n",
    "2 & 5 & 8 & 9 \\\\\n",
    "3 & 18 & 29 & 18 \\\\\n",
    "4 & 22 & 53 & 33\n",
    "\\end{vmatrix}\n",
    "L = \n",
    "\\begin{vmatrix}\n",
    "1 & 0 & 0 & 0 \\\\\n",
    "l_{21} & 1 & 0 & 0 \\\\\n",
    "l_{31} & l_{32} & 1 & 0 \\\\\n",
    "l_{41} & l_{42} & l_{43} & 1\n",
    "\\end{vmatrix}\n",
    "$"
   ]
  },
  {
   "cell_type": "markdown",
   "metadata": {},
   "source": [
    "$\n",
    "U =\n",
    "\\begin{vmatrix}\n",
    "1 & 1 & 2 & 4 \\\\\n",
    "0 & 3 & 4 & 1 \\\\\n",
    "0 & 15 & 23 & 6 \\\\\n",
    "0 & 18 & 45 & 17\n",
    "\\end{vmatrix}\n",
    "L = \n",
    "\\begin{vmatrix}\n",
    "1 & 0 & 0 & 0 \\\\\n",
    "2 & 1 & 0 & 0 \\\\\n",
    "3 & l_{32} & 1 & 0 \\\\\n",
    "4 & l_{42} & l_{43} & 1\n",
    "\\end{vmatrix}\n",
    "$"
   ]
  },
  {
   "cell_type": "markdown",
   "metadata": {},
   "source": [
    "$\n",
    "U =\n",
    "\\begin{vmatrix}\n",
    "1 & 1 & 2 & 4 \\\\\n",
    "0 & 3 & 4 & 1 \\\\\n",
    "0 & 0 & 3 & 1 \\\\\n",
    "0 & 0 & 21 & 11\n",
    "\\end{vmatrix}\n",
    "L = \n",
    "\\begin{vmatrix}\n",
    "1 & 0 & 0 & 0 \\\\\n",
    "2 & 1 & 0 & 0 \\\\\n",
    "3 & 5 & 1 & 0 \\\\\n",
    "4 & 6 & l_{43} & 1\n",
    "\\end{vmatrix}\n",
    "$"
   ]
  },
  {
   "cell_type": "markdown",
   "metadata": {},
   "source": [
    "$\n",
    "U =\n",
    "\\begin{vmatrix}\n",
    "1 & 1 & 2 & 4 \\\\\n",
    "0 & 3 & 4 & 1 \\\\\n",
    "0 & 0 & 3 & 1 \\\\\n",
    "0 & 0 & 0 & 4\n",
    "\\end{vmatrix}\n",
    "L = \n",
    "\\begin{vmatrix}\n",
    "1 & 0 & 0 & 0 \\\\\n",
    "2 & 1 & 0 & 0 \\\\\n",
    "3 & 5 & 1 & 0 \\\\\n",
    "4 & 6 & 7 & 1\n",
    "\\end{vmatrix}\n",
    "$"
   ]
  },
  {
   "cell_type": "code",
   "execution_count": 19,
   "metadata": {},
   "outputs": [],
   "source": [
    "u = np.matrix([[1,1,2,4],[0,3,4,1],[0,0,3,1],[0,0,0,4]])\n",
    "l = np.matrix([[1,0,0,0],[2,1,0,0],[3,5,1,0],[4,6,7,1]])"
   ]
  },
  {
   "cell_type": "code",
   "execution_count": 20,
   "metadata": {},
   "outputs": [
    {
     "data": {
      "text/plain": [
       "matrix([[ 1,  1,  2,  4],\n",
       "        [ 2,  5,  8,  9],\n",
       "        [ 3, 18, 29, 18],\n",
       "        [ 4, 22, 53, 33]])"
      ]
     },
     "execution_count": 20,
     "metadata": {},
     "output_type": "execute_result"
    }
   ],
   "source": [
    "np.dot(l,u)"
   ]
  },
  {
   "cell_type": "markdown",
   "metadata": {
    "colab_type": "text",
    "id": "ZBi7FV66fPKf"
   },
   "source": [
    "    \n",
    "__3*.__ Решить систему линейных уравнений методом $LU$-разложения\n",
    "\n",
    "$$\\begin{cases}\n",
    "2x_{1}+x_{2}+3x_{3}=1 \\\\\n",
    "11x_{1}+7x_{2}+5x_{3}=-6 \\\\\n",
    "9x_{1}+8x_{2}+4x_{3}=-5\n",
    "\\end{cases}$$"
   ]
  },
  {
   "cell_type": "markdown",
   "metadata": {},
   "source": [
    "$\n",
    "U =\n",
    "\\begin{vmatrix}\n",
    "2 & 1 & 3 \\\\\n",
    "11 & 7 & 5 \\\\\n",
    "9 & 8 & 4\n",
    "\\end{vmatrix}\n",
    "L = \n",
    "\\begin{vmatrix}\n",
    "1 & 0 & 0 \\\\\n",
    "l_{21} & 1 & 0 \\\\\n",
    "l_{31} & l_{32} & 1\n",
    "\\end{vmatrix}\n",
    "$"
   ]
  },
  {
   "cell_type": "markdown",
   "metadata": {},
   "source": [
    "$\n",
    "U =\n",
    "\\begin{vmatrix}\n",
    "2 & 1 & 3 \\\\\n",
    "0 & 3/2 & -23/2 \\\\\n",
    "0 & 7/2 & -19/2\n",
    "\\end{vmatrix}\n",
    "L = \n",
    "\\begin{vmatrix}\n",
    "1 & 0 & 0 \\\\\n",
    "11/2 & 1 & 0 \\\\\n",
    "9/2 & l_{32} & 1\n",
    "\\end{vmatrix}\n",
    "$"
   ]
  },
  {
   "cell_type": "markdown",
   "metadata": {},
   "source": [
    "$\n",
    "U =\n",
    "\\begin{vmatrix}\n",
    "2 & 1 & 3 \\\\\n",
    "0 & 3/2 & -23/2 \\\\\n",
    "0 & 0 & 52/3\n",
    "\\end{vmatrix}\n",
    "L = \n",
    "\\begin{vmatrix}\n",
    "1 & 0 & 0 \\\\\n",
    "11/2 & 1 & 0 \\\\\n",
    "9/2 & 7/3 & 1\n",
    "\\end{vmatrix}\n",
    "$"
   ]
  },
  {
   "cell_type": "code",
   "execution_count": 46,
   "metadata": {},
   "outputs": [],
   "source": [
    "u = np.matrix([[2, 1, 3], [0, 3/2, -23/2], [0, 0, 52/3]])\n",
    "l = np.matrix([[1, 0, 0], [11/2, 1, 0], [9/2, 7/3, 1]])"
   ]
  },
  {
   "cell_type": "code",
   "execution_count": 47,
   "metadata": {},
   "outputs": [
    {
     "data": {
      "text/plain": [
       "matrix([[ 2.,  1.,  3.],\n",
       "        [11.,  7.,  5.],\n",
       "        [ 9.,  8.,  4.]])"
      ]
     },
     "execution_count": 47,
     "metadata": {},
     "output_type": "execute_result"
    }
   ],
   "source": [
    "np.dot(l, u)"
   ]
  },
  {
   "cell_type": "markdown",
   "metadata": {},
   "source": [
    "$\n",
    "Ly = b \\\\\n",
    "\\begin{cases}\n",
    "y_1 = 1 \\\\\n",
    "11/2y_1 + y_2 = -6 \\\\\n",
    "9/2y_1 + 7/3y_2 + y_3 = -5\n",
    "\\end{cases}\n",
    "$"
   ]
  },
  {
   "cell_type": "markdown",
   "metadata": {},
   "source": [
    "$y_2 = -6 - 11/2 = -23/2$"
   ]
  },
  {
   "cell_type": "markdown",
   "metadata": {},
   "source": [
    "$\n",
    "y_3 = -5 + 134/6 = 52/3\n",
    "$"
   ]
  },
  {
   "cell_type": "markdown",
   "metadata": {},
   "source": [
    "$Ux = y$"
   ]
  },
  {
   "cell_type": "markdown",
   "metadata": {},
   "source": [
    "$\n",
    "\\begin{cases}\n",
    "2x_1 + x_2 + x_3 = 1 \\\\\n",
    "3/2x_2 - 23/2x_3 = -23/2 \\\\\n",
    "52/3x_3 = 52/3\n",
    "\\end{cases}\n",
    "$"
   ]
  },
  {
   "cell_type": "markdown",
   "metadata": {},
   "source": [
    "$\n",
    "x_3 = 1 \\\\\n",
    "x_2 = 0 \\\\\n",
    "x_1 = 0\n",
    "$"
   ]
  },
  {
   "cell_type": "markdown",
   "metadata": {},
   "source": [
    "$\\begin{cases}\n",
    "2x_{1}+x_{2}+3x_{3} \\neq 1 \\\\\n",
    "11x_{1}+7x_{2}+5x_{3} \\neq -6 \\\\\n",
    "9x_{1}+8x_{2}+4x_{3} \\neq -5\n",
    "\\end{cases}$"
   ]
  },
  {
   "cell_type": "code",
   "execution_count": 57,
   "metadata": {},
   "outputs": [],
   "source": [
    "import scipy.linalg"
   ]
  },
  {
   "cell_type": "code",
   "execution_count": 58,
   "metadata": {},
   "outputs": [
    {
     "name": "stdout",
     "output_type": "stream",
     "text": [
      "A:\n",
      "[[ 2  1  3]\n",
      " [11  7  5]\n",
      " [ 9  8  4]]\n",
      "\n",
      "b:\n",
      "[ 1 -6 -5]\n",
      "\n",
      "x:\n",
      "[-1.  0.  1.]\n",
      "\n",
      "Ax:\n",
      "[ 1. -6. -5.]\n",
      "\n",
      "Ax - b:\n",
      "[0. 0. 0.]\n",
      "\n",
      "lu:\n",
      "[[11.          7.          5.        ]\n",
      " [ 0.81818182  2.27272727 -0.09090909]\n",
      " [ 0.18181818 -0.12        2.08      ]]\n",
      "\n",
      "piv:\n",
      "[1 2 2]\n",
      "\n"
     ]
    }
   ],
   "source": [
    "A = np.array([[2, 1, 3], [11, 7, 5], [9, 8, 4]])\n",
    "b = np.array([1, -6, -5])\n",
    "\n",
    "lu, piv = scipy.linalg.lu_factor(A)\n",
    "x = scipy.linalg.lu_solve((lu, piv), b)\n",
    "\n",
    "print(f'A:\\n{A}\\n')\n",
    "print(f'b:\\n{b}\\n')\n",
    "print(f'x:\\n{x}\\n')\n",
    "print(f'Ax:\\n{A @ x}\\n')\n",
    "print(f'Ax - b:\\n{A @ x - b}\\n')\n",
    "\n",
    "print(f'lu:\\n{lu}\\n')\n",
    "print(f'piv:\\n{piv}\\n')"
   ]
  },
  {
   "cell_type": "markdown",
   "metadata": {
    "colab_type": "text",
    "id": "ZBi7FV66fPKf"
   },
   "source": [
    "__4*.__ Решить систему линейных уравнений методом Холецкого\n",
    "\n",
    "$$\\begin{cases}\n",
    "81x_{1}-45x_{2}+45x_{3}=531 \\\\\n",
    "-45x_{1}+50x_{2}-15x_{3}=-460 \\\\\n",
    "45x_{1}-15x_{2}+38x_{3}=193\n",
    "\\end{cases}$$"
   ]
  },
  {
   "cell_type": "code",
   "execution_count": 59,
   "metadata": {},
   "outputs": [
    {
     "name": "stdout",
     "output_type": "stream",
     "text": [
      "A:\n",
      "[[ 81 -45  45]\n",
      " [-45  50 -15]\n",
      " [ 45 -15  38]]\n",
      "\n",
      "K:\n",
      "(array([[  9.,  -5.,   5.],\n",
      "       [-45.,   5.,   2.],\n",
      "       [ 45., -15.,   3.]]), False)\n",
      "\n",
      "b:\n",
      "[ 531 -460  193]\n",
      "\n",
      "x:\n",
      "[ 6. -5. -4.]\n",
      "\n",
      "Ax:\n",
      "[ 531. -460.  193.]\n",
      "\n",
      "Ax - b:\n",
      "[0. 0. 0.]\n",
      "\n"
     ]
    }
   ],
   "source": [
    "A = np.array([[81, -45, 45], [-45, 50, -15], [45, -15, 38]])\n",
    "b = np.array([531, -460, 193])\n",
    "\n",
    "K = scipy.linalg.cho_factor(A)\n",
    "x = scipy.linalg.cho_solve(K, b)\n",
    "\n",
    "print(f'A:\\n{A}\\n')\n",
    "print(f'K:\\n{K}\\n')\n",
    "print(f'b:\\n{b}\\n')\n",
    "print(f'x:\\n{x}\\n')\n",
    "print(f'Ax:\\n{A @ x}\\n')\n",
    "print(f'Ax - b:\\n{A @ x - b}\\n')"
   ]
  },
  {
   "cell_type": "markdown",
   "metadata": {
    "colab_type": "text",
    "id": "ZBi7FV66fPKf"
   },
   "source": [
    "__5*.__ Написать на Python программу с реализацией одного из изученных алгоритмов решения СЛАУ."
   ]
  },
  {
   "cell_type": "markdown",
   "metadata": {},
   "source": [
    "__TIMEOUT__"
   ]
  }
 ],
 "metadata": {
  "kernelspec": {
   "display_name": "Python 3",
   "language": "python",
   "name": "python3"
  },
  "language_info": {
   "codemirror_mode": {
    "name": "ipython",
    "version": 3
   },
   "file_extension": ".py",
   "mimetype": "text/x-python",
   "name": "python",
   "nbconvert_exporter": "python",
   "pygments_lexer": "ipython3",
   "version": "3.7.6"
  }
 },
 "nbformat": 4,
 "nbformat_minor": 4
}
